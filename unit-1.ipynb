{
 "cells": [
  {
   "cell_type": "markdown",
   "id": "e9a6098f",
   "metadata": {},
   "source": [
    "# python basics\n",
    "paython fundamentals variable\n"
   ]
  },
  {
   "cell_type": "markdown",
   "id": "ef9f2e46",
   "metadata": {},
   "source": [
    "paython coding "
   ]
  },
  {
   "cell_type": "code",
   "execution_count": 3,
   "id": "68b8bc7b",
   "metadata": {},
   "outputs": [
    {
     "name": "stdout",
     "output_type": "stream",
     "text": [
      "akshar\n"
     ]
    }
   ],
   "source": [
    "print(\"akshar\")"
   ]
  },
  {
   "cell_type": "code",
   "execution_count": 2,
   "id": "de35bfa0",
   "metadata": {},
   "outputs": [
    {
     "name": "stdout",
     "output_type": "stream",
     "text": [
      "RAJ\n"
     ]
    }
   ],
   "source": [
    "print(\"RAJ\")"
   ]
  },
  {
   "cell_type": "markdown",
   "id": "1f218ee2",
   "metadata": {},
   "source": [
    "# paython variable "
   ]
  },
  {
   "cell_type": "code",
   "execution_count": 6,
   "id": "d9421603",
   "metadata": {},
   "outputs": [
    {
     "name": "stdout",
     "output_type": "stream",
     "text": [
      "paython\n",
      "34\n",
      "99\n"
     ]
    },
    {
     "data": {
      "text/plain": [
       "133"
      ]
     },
     "execution_count": 6,
     "metadata": {},
     "output_type": "execute_result"
    }
   ],
   "source": [
    "var1= \"paython\"\n",
    "a=34\n",
    "b=99\n",
    "print(var1)\n",
    "print(a)\n",
    "print(b)\n",
    "\n",
    "sum=a+b\n",
    "sum"
   ]
  },
  {
   "cell_type": "code",
   "execution_count": null,
   "id": "b8fc7c4c",
   "metadata": {},
   "outputs": [],
   "source": []
  }
 ],
 "metadata": {
  "kernelspec": {
   "display_name": "Python 3 (ipykernel)",
   "language": "python",
   "name": "python3"
  },
  "language_info": {
   "codemirror_mode": {
    "name": "ipython",
    "version": 3
   },
   "file_extension": ".py",
   "mimetype": "text/x-python",
   "name": "python",
   "nbconvert_exporter": "python",
   "pygments_lexer": "ipython3",
   "version": "3.9.12"
  },
  "widgets": {
   "application/vnd.jupyter.widget-state+json": {
    "state": {},
    "version_major": 2,
    "version_minor": 0
   }
  }
 },
 "nbformat": 4,
 "nbformat_minor": 5
}
